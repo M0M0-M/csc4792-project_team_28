{
  "nbformat": 4,
  "nbformat_minor": 0,
  "metadata": {
    "colab": {
      "provenance": [],
      "include_colab_link": true
    },
    "kernelspec": {
      "name": "python3",
      "display_name": "Python 3"
    },
    "language_info": {
      "name": "python"
    }
  },
  "cells": [
    {
      "cell_type": "markdown",
      "metadata": {
        "id": "view-in-github",
        "colab_type": "text"
      },
      "source": [
        "<a href=\"https://colab.research.google.com/github/M0M0-M/csc4792-project_team_28/blob/Collab-Update-Temp-Branch/sc4792_project_team_28_notebook.ipynb\" target=\"_parent\"><img src=\"https://colab.research.google.com/assets/colab-badge.svg\" alt=\"Open In Colab\"/></a>"
      ]
    },
    {
      "cell_type": "markdown",
      "source": [
        "\n",
        "# 1. BUSINESS UNDERSTANDING\n",
        "## 1.1 PROBLEM STATEMENT\n",
        "\n",
        "The Zambia Government Gazette publishes official notices, legal updates, tenders, and public announcements. These documents are published in PDF format, and often unstructured, making it difficult for stakeholders such as lawyers, journalists, researchers, and the general public to quickly find relevant information. Manual searching is time-consuming and prone to oversight. There is a need for an automated method to classify Gazette notices into categories (e.g., legal notices, tenders, appointments, public warnings) for faster retrieval and analysis.\n",
        "\n",
        "## 1.2 BUSINESS OBJECTIVES\n",
        "\n",
        "The primary objective is to develop a system that automatically processes and classifies Gazette publications into predefined categories. Success will mean that end users can:\n",
        "\n",
        "Quickly identify and filter notices by category.\n",
        "\n",
        "Reduce time spent manually scanning through documents.\n",
        "\n",
        "Gain improved access to relevant legal or public information.\n",
        "\n",
        "From a real-world perspective, this will increase efficiency for professionals and citizens who rely on the Gazette for important updates.\n",
        "\n",
        "## 1.3 DATA MINING GOALS\n",
        "\n",
        "We will build a text classification model that:\n",
        "\n",
        "Extracts text from Gazette PDFs.\n",
        "\n",
        "Preprocesses the text (cleaning, tokenization, stopword removal).\n",
        "\n",
        "Classifies each notice into categories.\n",
        "\n",
        "Outputs labeled data for easy search and retrieval.\n",
        "\n",
        "The approach will likely involve Natural Language Processing (NLP) and machine learning algorithms such as Logistic Regression or Support Vector Machines.\n",
        "\n",
        "## 1.4 INITIAL SUCCESS CRITERIA\n",
        "\n",
        "The project will be considered successful if:\n",
        "\n",
        "The classification model achieves at least 80% accuracy on the test dataset.\n",
        "\n",
        "Categories are clearly and vividly defined, distinct, and interpretable.\n",
        "\n",
        "The pipeline can handle at least 10 new Gazette PDFs per month without major manual intervention.\n",
        "\n",
        "Users confirm that classification results improve search speed and relevance compared to manual reading.\n",
        "\n",
        "## 1.5 SCOPE & ASSUMPTIONS\n",
        "\n",
        "Scope:\n",
        "\n",
        "Focus on classifying Gazette notices into 4–6 main categories.\n",
        "\n",
        "Work only with English-language Gazettes.\n",
        "\n",
        "Process and analyze a subset of recent Gazette issues.\n",
        "\n",
        "Assumptions:\n",
        "\n",
        "PDF files are accessible and legally permissible for analysis.\n",
        "\n",
        "Categories remain consistent over time.\n",
        "\n",
        "OCR (Optical Character Recognition) will be needed for scanned documents.\n",
        "\n",
        "## 1.6 RISKS & CONSTRAINTS\n",
        "\n",
        "Risks:\n",
        "\n",
        "Poor text quality from scanned PDFs may reduce OCR accuracy.\n",
        "\n",
        "Some notices may belong to multiple categories, complicating classification.\n",
        "\n",
        "Limited labelled training data could impact model performance.\n",
        "\n",
        "Constraints:\n",
        "\n",
        "Legal constraint: Must comply with any copyright or government data use regulations.\n",
        "\n",
        "## 1.7 Expected Benefits\n",
        "The system will enable faster retrieval of Gazette notices, enhance transparency, and support informed decision-making for both professionals and the public.\n",
        "\n",
        "# 2. METHODOLOGY\n",
        "## 2.1 DATA COLLECTION\n",
        "\n",
        "Download Gazette PDFs from the official Zambia Government Gazette website.\n",
        "\n",
        "Ensure documents cover a representative period to include diverse categories.\n",
        "\n",
        "Maintain a record of file metadata (date, publication number) for reference.\n",
        "## 2.2 DATA PREPROCESSING\n",
        "\n",
        "Convert PDFs to text using OCR for scanned documents.\n",
        "\n",
        "Remove irrelevant elements (headers, footers, page numbers).\n",
        "\n",
        "Tokenize text and remove stopwords, punctuation, and special characters.\n",
        "\n",
        "Standardize text formatting (e.g., lowercasing, stemming).\n",
        "\n",
        "## 2.3 MODEL SELECTION\n",
        "\n",
        "Evaluate multiple classification algorithms: Logistic Regression, Support Vector Machines, and Random Forest.\n",
        "\n",
        "Use TF-IDF or word embeddings to represent text features.\n",
        "\n",
        "Optimize model parameters using cross-validation.\n",
        "\n",
        "## 2.4 EVALUATION METRICS\n",
        "\n",
        "Accuracy, precision, recall, and F1-score for each category.\n",
        "\n",
        "Confusion matrix to identify misclassification trends.\n",
        "\n",
        "User feedback on relevance and usefulness of classified notices.\n",
        "\n",
        "# 3. TOOLS AND TECHNOLOGIES\n",
        "\n",
        "Programming Languages: Python\n",
        "\n",
        "Libraries: scikit-learn, pandas, NumPy, NLTK, spaCy, PyPDF2, Tesseract OCR\n",
        "\n",
        "Environment: Jupyter Notebook / Python IDE\n",
        "\n",
        "Version Control: Git / GitHub\n",
        "\n",
        "# 4. EXPECTED OUTCOMES\n",
        "\n",
        "Automated classification of Gazette notices into predefined categories.\n",
        "\n",
        "A searchable dataset with labeled notices for faster retrieval.\n",
        "\n",
        "Insights into the distribution and frequency of notice types.\n",
        "\n",
        "Reduced manual effort for users accessing Gazette information.\n",
        "\n",
        "# 5. FUTURE ENHANCEMENTS\n",
        "\n",
        "Implement a web interface for searching and filtering classified notices.\n",
        "\n",
        "Incorporate advanced NLP techniques like BERT for improved classification accuracy.\n",
        "\n",
        "Expand to multilingual Gazettes or other official publications.\n",
        "\n",
        "Introduce trend analysis and reporting for frequently published notice types.\n",
        "\n",
        "\n"
      ],
      "metadata": {
        "id": "C9pYZYBidvZH"
      }
    },
    {
      "cell_type": "code",
      "source": [],
      "metadata": {
        "colab": {
          "base_uri": "https://localhost:8080/",
          "height": 17
        },
        "id": "khxcNEGcbuy4",
        "outputId": "39af4152-51c3-4bd4-eb31-5dcd574326e4"
      },
      "execution_count": null,
      "outputs": [
        {
          "output_type": "display_data",
          "data": {
            "text/plain": [
              "<IPython.core.display.Javascript object>"
            ],
            "application/javascript": [
              "//This cell wil be executed as javascript\n",
              "//An alert will pop up when the cell is run\n",
              "alert(\"Welcome to CSC 4792!\");\n"
            ]
          },
          "metadata": {}
        }
      ]
    },
    {
      "cell_type": "code",
      "source": [],
      "metadata": {
        "id": "dXt9bydyexGP"
      },
      "execution_count": null,
      "outputs": []
    }
  ]
}