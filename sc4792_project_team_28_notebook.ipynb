{
  "nbformat": 4,
  "nbformat_minor": 0,
  "metadata": {
    "colab": {
      "provenance": [],
      "include_colab_link": true
    },
    "kernelspec": {
      "name": "python3",
      "display_name": "Python 3"
    },
    "language_info": {
      "name": "python"
    }
  },
  "cells": [
    {
      "cell_type": "markdown",
      "metadata": {
        "id": "view-in-github",
        "colab_type": "text"
      },
      "source": [
        "<a href=\"https://colab.research.google.com/github/M0M0-M/csc4792-project_team_28/blob/main/sc4792_project_team_28_notebook.ipynb\" target=\"_parent\"><img src=\"https://colab.research.google.com/assets/colab-badge.svg\" alt=\"Open In Colab\"/></a>"
      ]
    },
    {
      "cell_type": "markdown",
      "source": [
        "# 1. Business Understanding\n",
        "\n",
        "## 1.1 Problem Statement\n",
        "The Zambia Government Gazette publishes official notices, legal updates, tenders, and public announcements. These documents are published in PDF format, and often unstructured, making it difficult for stakeholders such as lawyers, journalists, researchers, and the general public to quickly find relevant information. Manual searching is time-consuming and prone to oversight. There is a need for an automated method to classify Gazette notices into categories (e.g., legal notices, tenders, appointments, public warnings) for faster retrieval and analysis.\n",
        "\n",
        "## 1.2 Business Objectives\n",
        "The primary objective is to develop a system that automatically processes and classifies Gazette publications into predefined categories. Success will mean that end users can:\n",
        "- Quickly identify and filter notices by category.\n",
        "- Reduce time spent manually scanning through documents.\n",
        "- Gain improved access to relevant legal or public information.\n",
        "From a real-world perspective, this will increase efficiency for professionals and citizens who rely on the Gazette for important updates.\n",
        "\n",
        "## 1.3 Data Mining Goals\n",
        "We will build a text classification model that:\n",
        "- Extracts text from Gazette PDFs.\n",
        "- Preprocesses the text (cleaning, tokenization, stopword removal).\n",
        "- Classify each notice into categories.\n",
        "- Outputs labeled data for easy search and retrieval.\n",
        "\n",
        "The approach will likely involve natural language processing (NLP) and machine learning algorithms such as Logistic Regression, or Support Vector Machines.\n",
        "\n",
        "\n",
        "## 1.4 Initial Success Criteria\n",
        "The project will be considered successful if:\n",
        "- The classification model achieves at least 80% accuracy on the test dataset.\n",
        "- Categories are clearly defined, distinct, and interpretable.\n",
        "- The pipeline can handle at least 10 new Gazette PDFs per month without major manual intervention.\n",
        "- Users confirm that classification results improve search speed and relevance compared to manual reading.\n",
        "\n",
        "## 1.5 Scope & Assumptions\n",
        "Scope:\n",
        "- Focus on classifying Gazette notices into 4–6 main categories.\n",
        "- Work only with English-language Gazettes.\n",
        "- Process and analyze a subset of recent Gazette issues.\n",
        "Assumptions:\n",
        "- PDF files are accessible and legally permissible for analysis.\n",
        "- Categories remain consistent over time.\n",
        "- OCR (Optical Character Recognition) will be needed for scanned documents.\n",
        "\n",
        "## 1.6 Risks & Constraints\n",
        "Risks:\n",
        "- Poor text quality from scanned PDFs may reduce OCR accuracy.\n",
        "- Some notices may belong to multiple categories, complicating classification.\n",
        "- Limited labeled training data could impact model performance.\n",
        "\n",
        "Constraints:\n",
        "- Legal constraint: Must comply with any copyright or government data use regulations."
      ],
      "metadata": {
        "id": "C9pYZYBidvZH"
      }
    },
    {
      "cell_type": "code",
      "source": [],
      "metadata": {
        "colab": {
          "base_uri": "https://localhost:8080/",
          "height": 17
        },
        "id": "khxcNEGcbuy4",
        "outputId": "39af4152-51c3-4bd4-eb31-5dcd574326e4"
      },
      "execution_count": null,
      "outputs": [
        {
          "output_type": "display_data",
          "data": {
            "text/plain": [
              "<IPython.core.display.Javascript object>"
            ],
            "application/javascript": [
              "//This cell wil be executed as javascript\n",
              "//An alert will pop up when the cell is run\n",
              "alert(\"Welcome to CSC 4792!\");\n"
            ]
          },
          "metadata": {}
        }
      ]
    },
    {
      "cell_type": "code",
      "source": [],
      "metadata": {
        "id": "dXt9bydyexGP"
      },
      "execution_count": null,
      "outputs": []
    }
  ]
}